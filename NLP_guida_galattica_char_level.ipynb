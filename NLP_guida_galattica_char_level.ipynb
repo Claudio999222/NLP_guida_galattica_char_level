{
 "cells": [
  {
   "cell_type": "code",
   "execution_count": 1,
   "metadata": {
    "collapsed": true,
    "jupyter": {
     "outputs_hidden": true
    }
   },
   "outputs": [
    {
     "name": "stdout",
     "output_type": "stream",
     "text": [
      "INFO:tensorflow:Mixed precision compatibility check (mixed_float16): OK\n",
      "Your GPU will likely run quickly with dtype policy mixed_float16 as it has compute capability of at least 7.0. Your GPU: NVIDIA GeForce RTX 3080 Laptop GPU, compute capability 8.6\n"
     ]
    }
   ],
   "source": [
    "import sys\n",
    "import numpy as np\n",
    "import random\n",
    "from tensorflow.keras.callbacks import Callback\n",
    "from tensorflow.keras.models import Sequential\n",
    "from tensorflow.keras.layers import Dense, LSTM\n",
    "from tensorflow.keras.optimizers import Adam\n",
    "from tensorflow.keras import backend as K\n",
    "import matplotlib.pyplot as plt\n",
    "from numpy.random import seed\n",
    "seed(42)\n",
    "\n",
    "import tensorflow as tf\n",
    "tf.random.set_seed(42)\n",
    "\n",
    "from tensorflow.keras import mixed_precision\n",
    "mixed_precision.set_global_policy('mixed_float16')\n",
    "K.set_floatx('float16')\n",
    "K.set_epsilon(1e-12)"
   ]
  },
  {
   "cell_type": "markdown",
   "metadata": {},
   "source": [
    "#### Importo il dataset"
   ]
  },
  {
   "cell_type": "code",
   "execution_count": 2,
   "metadata": {
    "pycharm": {
     "name": "#%%\n"
    }
   },
   "outputs": [],
   "source": [
    "text = open(\"data/guida_galattica_per_gli_autostoppisti.txt\", encoding='utf-8').read()\n",
    "text2 = open(\"data/ristorante_al_termine_dell_universo.txt\", encoding='utf-8').read()\n",
    "text3 = open(\"data/la_vita_l_universo_e_tutto_quanto.txt\", encoding='utf-8').read()\n",
    "text4 = open(\"data/addio_e_grazie_per_tutto_il_pesce.txt\", encoding='utf-8').read()\n",
    "text5 = open(\"data/praticamente_innocuo.txt    \", encoding='utf-8').read()\n",
    "\n",
    "text += ' ' + text2 + ' ' + text3 + ' ' + text4 + ' ' + text5"
   ]
  },
  {
   "cell_type": "markdown",
   "metadata": {},
   "source": [
    "#### Preprocessing del dataset"
   ]
  },
  {
   "cell_type": "code",
   "execution_count": 3,
   "metadata": {
    "pycharm": {
     "name": "#%%\n"
    }
   },
   "outputs": [],
   "source": [
    "text = text.replace('\\n', ' ')\n",
    "text = text.replace('\\x0c', ' ')\n",
    "text = text.replace(\"E'\", 'È')\n",
    "text = text.replace(\"&\", 'E')\n",
    "text = text.replace('–', '-')\n",
    "text = text.replace('—', '-')\n",
    "text = text.replace('-', ' ')\n",
    "text = text.replace(\"‘\", \" \")\n",
    "text = text.replace('’', \" \")\n",
    "text = text.replace('“', ' ')\n",
    "text = text.replace('”', ' ')\n",
    "text = text.replace('…', ' ')\n",
    "text = text.replace(\"'\", \" \")\n",
    "text = text.replace('.', ' ')\n",
    "text = text.replace(',', ' ')\n",
    "text = text.replace(';', ' ')\n",
    "text = text.replace(':', ' ')\n",
    "text = text.replace('!', ' ')\n",
    "text = text.replace('?', ' ')\n",
    "text = text.replace(')', ' ')\n",
    "text = text.replace('(', ' ')\n",
    "text = text.replace(']', ' ')\n",
    "text = text.replace('[', ' ')\n",
    "text = text.replace('}', ' ')\n",
    "text = text.replace('{', ' ')\n",
    "text = text.replace('#', ' ')\n",
    "text = text.replace('§', ' ')\n",
    "text = text.replace('°', ' ')\n",
    "text = text.replace('\"', ' ')\n",
    "text = text.replace('/', ' ')\n",
    "text = text.replace('=', ' ')\n",
    "text = text.replace('»', ' ')\n",
    "text = text.replace('«', ' ')\n",
    "text = text.replace('ª', ' ')\n",
    "text = text.replace('™', ' ')\n",
    "text = text.upper()"
   ]
  },
  {
   "cell_type": "code",
   "execution_count": 4,
   "metadata": {
    "pycharm": {
     "name": "#%%\n"
    }
   },
   "outputs": [
    {
     "name": "stdout",
     "output_type": "stream",
     "text": [
      "Lunghezza del testo: 1650075\n",
      "(circa) numero di parole: 275012\n",
      "Primi mille caratteri:\n",
      " LONTANO  NEI DIMENTICATI SPAZI NON SEGNATI NELLE CARTE GEOGRAFICHE DELL ESTREMO LIMITE DELLA SPIRALE OVEST DELLA GALASSIA  C È UN PICCOLO E INSIGNIFICANTE SOLE GIALLO  A ORBITARE INTORNO A ESSO  ALLA DISTANZA DI CENTOQUARANTANOVE MILIONI DI CHILOMETRI  C È UN PICCOLO  TRASCURABILISSIMO PIANETA AZZURRO VERDE  LE CUI FORME DI VITA  DISCENDENTI DALLE SCIMMIE  SONO COSÌ INCREDIBILMENTE PRIMITIVE CHE CREDONO ANCORA CHE GLI OROLOGI DA POLSO DIGITALI SIANO UN OTTIMA INVENZIONE  QUESTO PIANETA HA  O MEGLIO AVEVA  UN FONDAMENTALE PROBLEMA  LA MAGGIOR PARTE DEI SUOI ABITANTI ERANO INFATTI AFFLITTI DA UNA QUASI COSTANTE INFELICITÀ  PER RISOLVERE IL PROBLEMA DI QUESTA INFELICITÀ FURONO SUGGERITE VARIE PROPOSTE  MA QUESTE PER LO PIÙ CONCERNEVANO LO SCAMBIO CONTINUO DI PEZZETTI DI CARTA VERDE  UN FATTO INDUBBIAMENTE STRANO  VISTO CHE AD ESSERE INFELICI NON ERANO I PEZZETTI DI CARTA VERDE  MA GLI ABITANTI DEL PIANETA  E COSÌ IL PROBLEMA RESTAVA INALTERATO  QUASI TUTTI SI SENTIVANO TRISTI E INFELICI   \n",
      "\n"
     ]
    }
   ],
   "source": [
    "print('Lunghezza del testo:', len(text))\n",
    "print('(circa) numero di parole:', int(len(text)/6))\n",
    "print('Primi mille caratteri:\\n', text[0:1000], '\\n')"
   ]
  },
  {
   "cell_type": "markdown",
   "metadata": {},
   "source": [
    "#### lista ordinata di tutto i simboli utilizzati"
   ]
  },
  {
   "cell_type": "code",
   "execution_count": 5,
   "metadata": {
    "pycharm": {
     "name": "#%%\n"
    }
   },
   "outputs": [
    {
     "name": "stdout",
     "output_type": "stream",
     "text": [
      "49 caratteri unici\n",
      "{' ': 0, '0': 1, '1': 2, '2': 3, '3': 4, '4': 5, '5': 6, '6': 7, '7': 8, '8': 9, '9': 10, 'A': 11, 'B': 12, 'C': 13, 'D': 14, 'E': 15, 'F': 16, 'G': 17, 'H': 18, 'I': 19, 'J': 20, 'K': 21, 'L': 22, 'M': 23, 'N': 24, 'O': 25, 'P': 26, 'Q': 27, 'R': 28, 'S': 29, 'T': 30, 'U': 31, 'V': 32, 'W': 33, 'X': 34, 'Y': 35, 'Z': 36, '²': 37, 'À': 38, 'Â': 39, 'È': 40, 'É': 41, 'Ì': 42, 'Î': 43, 'Ñ': 44, 'Ò': 45, 'Ö': 46, 'Ù': 47, 'Π': 48}\n"
     ]
    }
   ],
   "source": [
    "chars = sorted(list(set(text))) \n",
    "\n",
    "char_indices = dict((c, i) for i, c in enumerate(chars))# utile per conversione da simbolo a indice\n",
    "print(len(char_indices), 'caratteri unici')\n",
    "\n",
    "print(char_indices)"
   ]
  },
  {
   "cell_type": "code",
   "execution_count": 6,
   "metadata": {
    "pycharm": {
     "name": "#%%\n"
    }
   },
   "outputs": [
    {
     "name": "stdout",
     "output_type": "stream",
     "text": [
      "42 caratteri unici\n",
      "{' ': 0, '0': 1, '1': 2, '2': 3, '3': 4, '4': 5, '5': 6, '6': 7, '7': 8, '8': 9, '9': 10, 'A': 11, 'B': 12, 'C': 13, 'D': 14, 'E': 15, 'F': 16, 'G': 17, 'H': 18, 'I': 19, 'J': 20, 'K': 21, 'L': 22, 'M': 23, 'N': 24, 'O': 25, 'P': 26, 'Q': 27, 'R': 28, 'S': 29, 'T': 30, 'U': 31, 'V': 32, 'W': 33, 'X': 34, 'Y': 35, 'Z': 36, 'À': 37, 'É': 38, 'Ì': 39, 'Ò': 40, 'Ù': 41}\n"
     ]
    }
   ],
   "source": [
    "text = text.replace(chars[-12], '2')\n",
    "chars[-12] = '2'\n",
    "text = text.replace(chars[-10], 'À')\n",
    "chars[-10] = 'À'\n",
    "text = text.replace(chars[-9], 'É')\n",
    "chars[-9] = 'É'\n",
    "text = text.replace(chars[-6], 'Ì')\n",
    "chars[-6] = 'Ì'\n",
    "text = text.replace(chars[-5], 'N')\n",
    "chars[-5] = 'N'\n",
    "text = text.replace(chars[-3], 'Ò')\n",
    "chars[-3] = 'Ò'\n",
    "text = text.replace(chars[-1], ' ')\n",
    "chars[-1] = ' '\n",
    "\n",
    "chars = sorted(list(set(chars)))\n",
    "\n",
    "char_indices = dict((c, i) for i, c in enumerate(chars))\n",
    "print(len(char_indices), 'caratteri unici')\n",
    "\n",
    "indices_char = dict((i, c) for i, c in enumerate(chars))\n",
    "\n",
    "print(char_indices)"
   ]
  },
  {
   "cell_type": "code",
   "execution_count": 7,
   "metadata": {
    "pycharm": {
     "name": "#%%\n"
    }
   },
   "outputs": [],
   "source": [
    "text = text.replace('  ', ' ')"
   ]
  },
  {
   "cell_type": "markdown",
   "metadata": {},
   "source": [
    "#### Creazione fase temporale"
   ]
  },
  {
   "cell_type": "code",
   "execution_count": 8,
   "metadata": {
    "pycharm": {
     "name": "#%%\n"
    }
   },
   "outputs": [
    {
     "name": "stdout",
     "output_type": "stream",
     "text": [
      "sequenze di testo generate: 399437\n"
     ]
    }
   ],
   "source": [
    "max_len = 48\n",
    "step = 4 \n",
    "sentences = []\n",
    "next_chars = []\n",
    "for i in range(0, len(text) - max_len, step):\n",
    "    sentences.append(text[i: i + max_len])\n",
    "    next_chars.append(text[i + max_len])\n",
    "print('sequenze di testo generate:', len(sentences))"
   ]
  },
  {
   "cell_type": "markdown",
   "metadata": {},
   "source": [
    "#### Creazione di X e Y"
   ]
  },
  {
   "cell_type": "code",
   "execution_count": 9,
   "metadata": {
    "pycharm": {
     "name": "#%%\n"
    }
   },
   "outputs": [
    {
     "name": "stdout",
     "output_type": "stream",
     "text": [
      "generazione dei vettori x di input e y di output\n"
     ]
    }
   ],
   "source": [
    "print('generazione dei vettori x di input e y di output')\n",
    "x = np.zeros((len(sentences), max_len, len(chars)), dtype=np.bool)\n",
    "y = np.zeros((len(sentences), len(chars)), dtype=np.bool)\n",
    "for i, sentence in enumerate(sentences):\n",
    "    for t, char in enumerate(sentence):\n",
    "        x[i, t, char_indices[char]] = 1\n",
    "    y[i, char_indices[next_chars[i]]] = 1"
   ]
  },
  {
   "cell_type": "markdown",
   "metadata": {},
   "source": [
    "#### Creazione architettura con celle LSTM e compilazione modello"
   ]
  },
  {
   "cell_type": "code",
   "execution_count": 10,
   "metadata": {
    "pycharm": {
     "name": "#%%\n"
    }
   },
   "outputs": [
    {
     "name": "stdout",
     "output_type": "stream",
     "text": [
      "Model: \"sequential\"\n",
      "_________________________________________________________________\n",
      "Layer (type)                 Output Shape              Param #   \n",
      "=================================================================\n",
      "lstm (LSTM)                  (None, 48, 512)           1136640   \n",
      "_________________________________________________________________\n",
      "lstm_1 (LSTM)                (None, 256)               787456    \n",
      "_________________________________________________________________\n",
      "dense (Dense)                (None, 512)               131584    \n",
      "_________________________________________________________________\n",
      "dense_1 (Dense)              (None, 42)                21546     \n",
      "=================================================================\n",
      "Total params: 2,077,226\n",
      "Trainable params: 2,077,226\n",
      "Non-trainable params: 0\n",
      "_________________________________________________________________\n"
     ]
    }
   ],
   "source": [
    "model = Sequential()\n",
    "model.add(LSTM(512, return_sequences=True, input_shape=(max_len, len(chars))))\n",
    "model.add(LSTM(256))\n",
    "model.add(Dense(512, activation='swish'))\n",
    "model.add(Dense(len(chars), activation='softmax', dtype='float32'))\n",
    "optimizer = Adam()\n",
    "model.compile(loss='categorical_crossentropy', optimizer=optimizer)\n",
    "model.summary()"
   ]
  },
  {
   "cell_type": "markdown",
   "metadata": {},
   "source": [
    "#### Tramite il backand di keras  imposto un learning rate dinamico che mi consente di modificarlo durante l'addestramento se il nostro learning rate sale o scende troppo"
   ]
  },
  {
   "cell_type": "code",
   "execution_count": 1,
   "metadata": {
    "pycharm": {
     "name": "#%%\n"
    }
   },
   "outputs": [
    {
     "ename": "NameError",
     "evalue": "name 'Callback' is not defined",
     "output_type": "error",
     "traceback": [
      "\u001b[1;31m---------------------------------------------------------------------------\u001b[0m",
      "\u001b[1;31mNameError\u001b[0m                                 Traceback (most recent call last)",
      "Cell \u001b[1;32mIn[1], line 1\u001b[0m\n\u001b[1;32m----> 1\u001b[0m \u001b[38;5;28;01mclass\u001b[39;00m \u001b[38;5;21;01mTrainingManagerCB\u001b[39;00m(\u001b[43mCallback\u001b[49m):\n\u001b[0;32m      2\u001b[0m     decay      \u001b[38;5;241m=\u001b[39m \u001b[38;5;28;01mTrue\u001b[39;00m\n\u001b[0;32m      3\u001b[0m     start_lr   \u001b[38;5;241m=\u001b[39m \u001b[38;5;241m0.003\u001b[39m\n",
      "\u001b[1;31mNameError\u001b[0m: name 'Callback' is not defined"
     ]
    }
   ],
   "source": [
    "class TrainingManagerCB(Callback):\n",
    "    decay      = True\n",
    "    start_lr   = 0.003\n",
    "    start_lr_2 = 0.0015\n",
    "    max_lr     = 0.001\n",
    "    min_lr     = 0.0001\n",
    "\n",
    "    def on_train_begin(self, logs=None):\n",
    "        K.set_value(self.model.optimizer.lr, self.start_lr)\n",
    "\n",
    "    def on_epoch_end(self, epoch, logs=None):\n",
    "        actual_learning_rate = K.eval(self.model.optimizer.lr)\n",
    "\n",
    "        if epoch == 19:\n",
    "            K.set_value(self.model.optimizer.lr, self.max_lr)\n",
    "        if epoch == 9:\n",
    "            K.set_value(self.model.optimizer.lr, self.start_lr_2)\n",
    "        elif epoch > 29:\n",
    "            if self.decay:\n",
    "                K.set_value(self.model.optimizer.lr, actual_learning_rate - (actual_learning_rate * 0.06))\n",
    "            else:\n",
    "                K.set_value(self.model.optimizer.lr, actual_learning_rate + (actual_learning_rate * 0.18))\n",
    "\n",
    "        print('epoca:', str(epoch + 1) + '/' + str(epochs),\n",
    "              ' -  lr:%f' % actual_learning_rate,\n",
    "              ' -  loss:', logs['loss'])\n",
    "\n",
    "        actual_learning_rate = K.eval(self.model.optimizer.lr)\n",
    "        if actual_learning_rate < self.min_lr:\n",
    "            self.decay = False\n",
    "            self.max_lr -= self.max_lr * 0.1\n",
    "        elif actual_learning_rate > self.max_lr:\n",
    "            self.decay = True\n",
    "\n",
    "        if epoch < 101:\n",
    "            step = 100\n",
    "        elif epoch < 351:\n",
    "            step = 75\n",
    "        else:\n",
    "            step = 50\n",
    "        if (epoch + 1) % step == 0:\n",
    "            start_index = random.randint(0, len(text) - max_len - 1)\n",
    "            generated = ''\n",
    "            sentence = text[start_index: start_index + max_len] #crea un chunk di 48 caratteri a partire da un indice a caso\n",
    "            generated += sentence\n",
    "            print('-------------------                                           \\n',\n",
    "                  'frase di partenza:', sentence, '-------------------\\nfrase generata:')\n",
    "            for i in range(250):\n",
    "                x_pred = np.zeros((1, max_len, len(chars)))\n",
    "                for t, char in enumerate(sentence):\n",
    "                    x_pred[0, t, char_indices[char]] = 1.\n",
    "\n",
    "                preds = self.model.predict(x_pred, verbose=0)[0]\n",
    "                next_index = np.argmax(preds)\n",
    "                next_char = indices_char[next_index]\n",
    "\n",
    "                sentence = sentence[1:] + next_char\n",
    "\n",
    "                sys.stdout.write(next_char)\n",
    "                sys.stdout.flush()\n",
    "\n",
    "                if (i+1) % 50 == 0:\n",
    "                    sys.stdout.write('\\n')\n",
    "            print('\\n-------------------')"
   ]
  },
  {
   "cell_type": "markdown",
   "metadata": {},
   "source": [
    "#### lancio l'addestramento del modello "
   ]
  },
  {
   "cell_type": "code",
   "execution_count": 12,
   "metadata": {
    "pycharm": {
     "name": "#%%\n"
    }
   },
   "outputs": [
    {
     "name": "stdout",
     "output_type": "stream",
     "text": [
      "inizio addestramento.\n",
      " 200 epoche ( 399437 esempi, analizzati 1024 alla volta su 391 aggiornamenti dei parametri per epoca )\n",
      "epoca: 1/200  -  lr:0.003000  -  loss: 2.3069422245025635\n",
      "epoca: 2/200  -  lr:0.003000  -  loss: 1.7947309017181396\n",
      "epoca: 3/200  -  lr:0.003000  -  loss: 1.676109790802002\n",
      "epoca: 4/200  -  lr:0.003000  -  loss: 2.3268930912017822\n",
      "epoca: 5/200  -  lr:0.003000  -  loss: 2.1641643047332764\n",
      "epoca: 6/200  -  lr:0.003000  -  loss: 2.0655038356781006\n",
      "epoca: 7/200  -  lr:0.003000  -  loss: 2.001927614212036\n",
      "epoca: 8/200  -  lr:0.003000  -  loss: 1.9529647827148438\n",
      "epoca: 9/200  -  lr:0.003000  -  loss: 1.9090536832809448\n",
      "epoca: 10/200  -  lr:0.003000  -  loss: 1.8767681121826172\n",
      "epoca: 11/200  -  lr:0.001500  -  loss: 1.8332265615463257\n",
      "epoca: 12/200  -  lr:0.001500  -  loss: 1.8174374103546143\n",
      "epoca: 13/200  -  lr:0.001500  -  loss: 1.799990177154541\n",
      "epoca: 14/200  -  lr:0.001500  -  loss: 1.786354899406433\n",
      "epoca: 15/200  -  lr:0.001500  -  loss: 1.770458459854126\n",
      "epoca: 16/200  -  lr:0.001500  -  loss: 1.7563396692276\n",
      "epoca: 17/200  -  lr:0.001500  -  loss: 1.7447742223739624\n",
      "epoca: 18/200  -  lr:0.001500  -  loss: 1.7333204746246338\n",
      "epoca: 19/200  -  lr:0.001500  -  loss: 1.719638466835022\n",
      "epoca: 20/200  -  lr:0.001500  -  loss: 1.7116549015045166\n",
      "epoca: 21/200  -  lr:0.001000  -  loss: 1.6965713500976562\n",
      "epoca: 22/200  -  lr:0.001000  -  loss: 1.7042871713638306\n",
      "epoca: 23/200  -  lr:0.001000  -  loss: 1.6896982192993164\n",
      "epoca: 24/200  -  lr:0.001000  -  loss: 1.6820966005325317\n",
      "epoca: 25/200  -  lr:0.001000  -  loss: 1.6695595979690552\n",
      "epoca: 26/200  -  lr:0.001000  -  loss: 1.6621959209442139\n",
      "epoca: 27/200  -  lr:0.001000  -  loss: 1.6560848951339722\n",
      "epoca: 28/200  -  lr:0.001000  -  loss: 1.647716999053955\n",
      "epoca: 29/200  -  lr:0.001000  -  loss: 1.6388360261917114\n",
      "epoca: 30/200  -  lr:0.001000  -  loss: 1.6319794654846191\n",
      "epoca: 31/200  -  lr:0.001000  -  loss: 1.6245195865631104\n",
      "epoca: 32/200  -  lr:0.000940  -  loss: 1.6145284175872803\n",
      "epoca: 33/200  -  lr:0.000884  -  loss: 1.6060761213302612\n",
      "epoca: 34/200  -  lr:0.000831  -  loss: 1.597599744796753\n",
      "epoca: 35/200  -  lr:0.000781  -  loss: 1.5871189832687378\n",
      "epoca: 36/200  -  lr:0.000734  -  loss: 1.5784857273101807\n",
      "epoca: 37/200  -  lr:0.000690  -  loss: 1.5707898139953613\n",
      "epoca: 38/200  -  lr:0.000648  -  loss: 1.5624122619628906\n",
      "epoca: 39/200  -  lr:0.000610  -  loss: 1.5538520812988281\n",
      "epoca: 40/200  -  lr:0.000573  -  loss: 1.5464231967926025\n",
      "epoca: 41/200  -  lr:0.000539  -  loss: 1.53864324092865\n",
      "epoca: 42/200  -  lr:0.000506  -  loss: 1.5309025049209595\n",
      "epoca: 43/200  -  lr:0.000476  -  loss: 1.5246994495391846\n",
      "epoca: 44/200  -  lr:0.000447  -  loss: 1.5171222686767578\n",
      "epoca: 45/200  -  lr:0.000421  -  loss: 1.511061191558838\n",
      "epoca: 46/200  -  lr:0.000395  -  loss: 1.5048694610595703\n",
      "epoca: 47/200  -  lr:0.000372  -  loss: 1.4983189105987549\n",
      "epoca: 48/200  -  lr:0.000349  -  loss: 1.491953730583191\n",
      "epoca: 49/200  -  lr:0.000328  -  loss: 1.4862676858901978\n",
      "epoca: 50/200  -  lr:0.000309  -  loss: 1.481122374534607\n",
      "epoca: 51/200  -  lr:0.000290  -  loss: 1.4757426977157593\n",
      "epoca: 52/200  -  lr:0.000273  -  loss: 1.4711946249008179\n",
      "epoca: 53/200  -  lr:0.000256  -  loss: 1.4658584594726562\n",
      "epoca: 54/200  -  lr:0.000241  -  loss: 1.461229681968689\n",
      "epoca: 55/200  -  lr:0.000227  -  loss: 1.4566433429718018\n",
      "epoca: 56/200  -  lr:0.000213  -  loss: 1.452057957649231\n",
      "epoca: 57/200  -  lr:0.000200  -  loss: 1.448588252067566\n",
      "epoca: 58/200  -  lr:0.000188  -  loss: 1.4442901611328125\n",
      "epoca: 59/200  -  lr:0.000177  -  loss: 1.4404206275939941\n",
      "epoca: 60/200  -  lr:0.000166  -  loss: 1.4373903274536133\n",
      "epoca: 61/200  -  lr:0.000156  -  loss: 1.4340028762817383\n",
      "epoca: 62/200  -  lr:0.000147  -  loss: 1.4308854341506958\n",
      "epoca: 63/200  -  lr:0.000138  -  loss: 1.4279900789260864\n",
      "epoca: 64/200  -  lr:0.000130  -  loss: 1.4250731468200684\n",
      "epoca: 65/200  -  lr:0.000122  -  loss: 1.4223568439483643\n",
      "epoca: 66/200  -  lr:0.000115  -  loss: 1.419879674911499\n",
      "epoca: 67/200  -  lr:0.000108  -  loss: 1.4177764654159546\n",
      "epoca: 68/200  -  lr:0.000101  -  loss: 1.4150867462158203\n",
      "epoca: 69/200  -  lr:0.000095  -  loss: 1.413200855255127\n",
      "epoca: 70/200  -  lr:0.000112  -  loss: 1.4125232696533203\n",
      "epoca: 71/200  -  lr:0.000133  -  loss: 1.411765217781067\n",
      "epoca: 72/200  -  lr:0.000156  -  loss: 1.4110275506973267\n",
      "epoca: 73/200  -  lr:0.000185  -  loss: 1.410390019416809\n",
      "epoca: 74/200  -  lr:0.000218  -  loss: 1.4100147485733032\n",
      "epoca: 75/200  -  lr:0.000257  -  loss: 1.4084604978561401\n",
      "epoca: 76/200  -  lr:0.000303  -  loss: 1.4076203107833862\n",
      "epoca: 77/200  -  lr:0.000358  -  loss: 1.405859112739563\n",
      "epoca: 78/200  -  lr:0.000422  -  loss: 1.4054594039916992\n",
      "epoca: 79/200  -  lr:0.000499  -  loss: 1.4047002792358398\n",
      "epoca: 80/200  -  lr:0.000588  -  loss: 1.402510643005371\n",
      "epoca: 81/200  -  lr:0.000694  -  loss: 1.4016553163528442\n",
      "epoca: 82/200  -  lr:0.000819  -  loss: 1.3988653421401978\n",
      "epoca: 83/200  -  lr:0.000967  -  loss: 1.396610140800476\n",
      "epoca: 84/200  -  lr:0.000909  -  loss: 1.383285403251648\n",
      "epoca: 85/200  -  lr:0.000854  -  loss: 1.369962453842163\n",
      "epoca: 86/200  -  lr:0.000803  -  loss: 1.3567566871643066\n",
      "epoca: 87/200  -  lr:0.000755  -  loss: 1.3431944847106934\n",
      "epoca: 88/200  -  lr:0.000709  -  loss: 1.3309829235076904\n",
      "epoca: 89/200  -  lr:0.000667  -  loss: 1.318806529045105\n",
      "epoca: 90/200  -  lr:0.000627  -  loss: 1.3074145317077637\n",
      "epoca: 91/200  -  lr:0.000589  -  loss: 1.2964106798171997\n",
      "epoca: 92/200  -  lr:0.000554  -  loss: 1.285077691078186\n",
      "epoca: 93/200  -  lr:0.000521  -  loss: 1.2754524946212769\n",
      "epoca: 94/200  -  lr:0.000489  -  loss: 1.2636148929595947\n",
      "epoca: 95/200  -  lr:0.000460  -  loss: 1.2559329271316528\n",
      "epoca: 96/200  -  lr:0.000432  -  loss: 1.245521068572998\n",
      "epoca: 97/200  -  lr:0.000406  -  loss: 1.2370808124542236\n",
      "epoca: 98/200  -  lr:0.000382  -  loss: 1.2292560338974\n",
      "epoca: 99/200  -  lr:0.000359  -  loss: 1.220638394355774\n",
      "epoca: 100/200  -  lr:0.000338  -  loss: 1.2133996486663818\n",
      "-------------------                                           \n",
      " frase di partenza: TA SOLO FINO A UN CERTO PUNTO  DISSE FORD  IO VE -------------------\n",
      "frase generata:\n",
      "DERE DI MANO DI SUONO SORTI DI COMPAGNI DI COMPUTE\n",
      "R CHE SI SENTIVA SULLA SUA COMPANTA DELL ATTIMO CH\n",
      "E SI RICORDI SI SENTIVA A UNA SPECIE ALLA GUIDA SI\n",
      " TROVARO L ASSENZA SECCATO DI SOLITO CHE NON É LA \n",
      "STANZA SUBITO DI ANNI LA MANO CHE LA SUA COMPUTER \n",
      "\n",
      "-------------------\n",
      "epoca: 101/200  -  lr:0.000317  -  loss: 1.2052497863769531\n",
      "epoca: 102/200  -  lr:0.000298  -  loss: 1.1986719369888306\n",
      "epoca: 103/200  -  lr:0.000280  -  loss: 1.1916477680206299\n",
      "epoca: 104/200  -  lr:0.000264  -  loss: 1.185337781906128\n",
      "epoca: 105/200  -  lr:0.000248  -  loss: 1.179242491722107\n",
      "epoca: 106/200  -  lr:0.000233  -  loss: 1.17384934425354\n",
      "epoca: 107/200  -  lr:0.000219  -  loss: 1.167719841003418\n",
      "epoca: 108/200  -  lr:0.000206  -  loss: 1.162512183189392\n",
      "epoca: 109/200  -  lr:0.000193  -  loss: 1.1578871011734009\n",
      "epoca: 110/200  -  lr:0.000182  -  loss: 1.1529124975204468\n",
      "epoca: 111/200  -  lr:0.000171  -  loss: 1.1486811637878418\n",
      "epoca: 112/200  -  lr:0.000161  -  loss: 1.1442962884902954\n",
      "epoca: 113/200  -  lr:0.000151  -  loss: 1.1397897005081177\n",
      "epoca: 114/200  -  lr:0.000142  -  loss: 1.136293888092041\n",
      "epoca: 115/200  -  lr:0.000133  -  loss: 1.1326262950897217\n",
      "epoca: 116/200  -  lr:0.000125  -  loss: 1.1298089027404785\n",
      "epoca: 117/200  -  lr:0.000118  -  loss: 1.1256805658340454\n",
      "epoca: 118/200  -  lr:0.000111  -  loss: 1.1225810050964355\n",
      "epoca: 119/200  -  lr:0.000104  -  loss: 1.1200894117355347\n",
      "epoca: 120/200  -  lr:0.000098  -  loss: 1.1171396970748901\n",
      "epoca: 121/200  -  lr:0.000116  -  loss: 1.117507815361023\n",
      "epoca: 122/200  -  lr:0.000136  -  loss: 1.1176533699035645\n",
      "epoca: 123/200  -  lr:0.000161  -  loss: 1.117791771888733\n",
      "epoca: 124/200  -  lr:0.000190  -  loss: 1.1189662218093872\n",
      "epoca: 125/200  -  lr:0.000224  -  loss: 1.118820309638977\n",
      "epoca: 126/200  -  lr:0.000264  -  loss: 1.121002435684204\n",
      "epoca: 127/200  -  lr:0.000312  -  loss: 1.1216564178466797\n",
      "epoca: 128/200  -  lr:0.000368  -  loss: 1.1228208541870117\n",
      "epoca: 129/200  -  lr:0.000434  -  loss: 1.1256654262542725\n",
      "epoca: 130/200  -  lr:0.000513  -  loss: 1.1286530494689941\n",
      "epoca: 131/200  -  lr:0.000605  -  loss: 1.1292461156845093\n",
      "epoca: 132/200  -  lr:0.000714  -  loss: 1.1351335048675537\n",
      "epoca: 133/200  -  lr:0.000842  -  loss: 1.138993740081787\n",
      "epoca: 134/200  -  lr:0.000792  -  loss: 1.12612783908844\n",
      "epoca: 135/200  -  lr:0.000744  -  loss: 1.1115885972976685\n",
      "epoca: 136/200  -  lr:0.000699  -  loss: 1.0973906517028809\n",
      "epoca: 137/200  -  lr:0.000658  -  loss: 1.0827114582061768\n",
      "epoca: 138/200  -  lr:0.000618  -  loss: 1.071317195892334\n",
      "epoca: 139/200  -  lr:0.000581  -  loss: 1.0597370862960815\n",
      "epoca: 140/200  -  lr:0.000546  -  loss: 1.0469330549240112\n",
      "epoca: 141/200  -  lr:0.000513  -  loss: 1.0362162590026855\n",
      "epoca: 142/200  -  lr:0.000483  -  loss: 1.0243297815322876\n",
      "epoca: 143/200  -  lr:0.000454  -  loss: 1.0142654180526733\n",
      "epoca: 144/200  -  lr:0.000426  -  loss: 1.002055287361145\n",
      "epoca: 145/200  -  lr:0.000401  -  loss: 0.994103193283081\n",
      "epoca: 146/200  -  lr:0.000377  -  loss: 0.9832248091697693\n",
      "epoca: 147/200  -  lr:0.000354  -  loss: 0.9750619530677795\n",
      "epoca: 148/200  -  lr:0.000333  -  loss: 0.9659951329231262\n",
      "epoca: 149/200  -  lr:0.000313  -  loss: 0.9583606123924255\n",
      "epoca: 150/200  -  lr:0.000294  -  loss: 0.9497223496437073\n",
      "-------------------                                           \n",
      " frase di partenza: NIVERSO ERUPPE E DIETRO IL NULLA DIETRO L OSCURI -------------------\n",
      "frase generata:\n",
      "TA DELL UN ANGOLO NON SI GIRARE INDICI DI CORTO DI\n",
      " SONO ANDATA A UN PASSAGGIO DELLA SUA CORSA DI QUA\n",
      "NTO SE STESSI PER UN ALTRA PALONATO  SAI DISPOSE U\n",
      "NA SORTA DI TUTTO SEGUIRE CON LA GUIDA SI SENTIVA \n",
      "DI AVERE SOLLEVA LA SCALA E SI CHIEDEVANO STATI SO\n",
      "\n",
      "-------------------\n",
      "epoca: 151/200  -  lr:0.000277  -  loss: 0.9417848587036133\n",
      "epoca: 152/200  -  lr:0.000260  -  loss: 0.9351556301116943\n",
      "epoca: 153/200  -  lr:0.000244  -  loss: 0.9288796782493591\n",
      "epoca: 154/200  -  lr:0.000230  -  loss: 0.921649694442749\n",
      "epoca: 155/200  -  lr:0.000216  -  loss: 0.9153063297271729\n",
      "epoca: 156/200  -  lr:0.000203  -  loss: 0.9091994762420654\n",
      "epoca: 157/200  -  lr:0.000191  -  loss: 0.9029086828231812\n",
      "epoca: 158/200  -  lr:0.000179  -  loss: 0.8981443047523499\n",
      "epoca: 159/200  -  lr:0.000169  -  loss: 0.893164336681366\n",
      "epoca: 160/200  -  lr:0.000158  -  loss: 0.8883942365646362\n",
      "epoca: 161/200  -  lr:0.000149  -  loss: 0.8838189840316772\n",
      "epoca: 162/200  -  lr:0.000140  -  loss: 0.8793734312057495\n",
      "epoca: 163/200  -  lr:0.000132  -  loss: 0.8749972581863403\n",
      "epoca: 164/200  -  lr:0.000124  -  loss: 0.8709797263145447\n",
      "epoca: 165/200  -  lr:0.000116  -  loss: 0.8670799732208252\n",
      "epoca: 166/200  -  lr:0.000109  -  loss: 0.8638980984687805\n",
      "epoca: 167/200  -  lr:0.000103  -  loss: 0.8606260418891907\n",
      "epoca: 168/200  -  lr:0.000097  -  loss: 0.8576759099960327\n",
      "epoca: 169/200  -  lr:0.000114  -  loss: 0.8581748604774475\n",
      "epoca: 170/200  -  lr:0.000134  -  loss: 0.8592926859855652\n",
      "epoca: 171/200  -  lr:0.000159  -  loss: 0.8611831068992615\n",
      "epoca: 172/200  -  lr:0.000187  -  loss: 0.8626947999000549\n",
      "epoca: 173/200  -  lr:0.000221  -  loss: 0.8649895191192627\n",
      "epoca: 174/200  -  lr:0.000261  -  loss: 0.86866694688797\n",
      "epoca: 175/200  -  lr:0.000308  -  loss: 0.8710842728614807\n",
      "epoca: 176/200  -  lr:0.000363  -  loss: 0.874976396560669\n",
      "epoca: 177/200  -  lr:0.000428  -  loss: 0.8820821642875671\n",
      "epoca: 178/200  -  lr:0.000505  -  loss: 0.8893690705299377\n",
      "epoca: 179/200  -  lr:0.000596  -  loss: 0.8978222608566284\n",
      "epoca: 180/200  -  lr:0.000704  -  loss: 0.9102973341941833\n",
      "epoca: 181/200  -  lr:0.000831  -  loss: 0.9236039519309998\n",
      "epoca: 182/200  -  lr:0.000781  -  loss: 0.9019303321838379\n",
      "epoca: 183/200  -  lr:0.000734  -  loss: 0.8853058218955994\n",
      "epoca: 184/200  -  lr:0.000690  -  loss: 0.8670820593833923\n",
      "epoca: 185/200  -  lr:0.000648  -  loss: 0.8533354997634888\n",
      "epoca: 186/200  -  lr:0.000610  -  loss: 0.8388006687164307\n",
      "epoca: 187/200  -  lr:0.000573  -  loss: 0.8275309205055237\n",
      "epoca: 188/200  -  lr:0.000539  -  loss: 0.8111198544502258\n",
      "epoca: 189/200  -  lr:0.000506  -  loss: 0.7999062538146973\n",
      "epoca: 190/200  -  lr:0.000476  -  loss: 0.7895004153251648\n",
      "epoca: 191/200  -  lr:0.000447  -  loss: 0.7768726944923401\n",
      "epoca: 192/200  -  lr:0.000420  -  loss: 0.7645953297615051\n",
      "epoca: 193/200  -  lr:0.000395  -  loss: 0.7544680833816528\n",
      "epoca: 194/200  -  lr:0.000372  -  loss: 0.7433853149414062\n",
      "epoca: 195/200  -  lr:0.000349  -  loss: 0.7343758940696716\n",
      "epoca: 196/200  -  lr:0.000328  -  loss: 0.7254500389099121\n",
      "epoca: 197/200  -  lr:0.000309  -  loss: 0.7158066630363464\n",
      "epoca: 198/200  -  lr:0.000290  -  loss: 0.7076277136802673\n",
      "epoca: 199/200  -  lr:0.000273  -  loss: 0.6992717385292053\n",
      "epoca: 200/200  -  lr:0.000256  -  loss: 0.6903249025344849\n",
      "\n",
      "\f",
      "Fine addestramento.\n"
     ]
    }
   ],
   "source": [
    "tm = TrainingManagerCB()\n",
    "\n",
    "batches = 1024\n",
    "epochs = 200\n",
    "\n",
    "print('inizio addestramento.\\n', epochs, 'epoche (', len(x), 'esempi, analizzati', batches, 'alla volta su', int(len(x) / batches) + 1,\n",
    "      'aggiornamenti dei '\n",
    "      'parametri per epoca )')\n",
    "\n",
    "history = model.fit(x, y,\n",
    "          batch_size=batches, \n",
    "          epochs=epochs,\n",
    "          callbacks=tm,\n",
    "          verbose=0)\n",
    "print('\\n\\fFine addestramento.')"
   ]
  },
  {
   "cell_type": "markdown",
   "metadata": {},
   "source": [
    "#### Illustrazione dell errore in fase di addestramento"
   ]
  },
  {
   "cell_type": "code",
   "execution_count": 13,
   "metadata": {
    "pycharm": {
     "name": "#%%\n"
    }
   },
   "outputs": [
    {
     "data": {
      "text/plain": [
       "<Figure size 1440x864 with 0 Axes>"
      ]
     },
     "metadata": {},
     "output_type": "display_data"
    },
    {
     "data": {
      "image/png": "[encoded data removed]",
      "text/plain": [
       "<Figure size 432x288 with 1 Axes>"
      ]
     },
     "metadata": {
      "needs_background": "light"
     },
     "output_type": "display_data"
    }
   ],
   "source": [
    "# visualizzazione addestramento\n",
    "plt.figure(figsize=(20,12))\n",
    "f, ax = plt.subplots()\n",
    "ax.set_title('Errore')\n",
    "ax.plot(history.history['loss'])\n",
    "plt.show()"
   ]
  },
  {
   "cell_type": "markdown",
   "metadata": {},
   "source": [
    "#### Riaddestro una seconda volta il modello"
   ]
  },
  {
   "cell_type": "code",
   "execution_count": 14,
   "metadata": {
    "pycharm": {
     "name": "#%%\n"
    }
   },
   "outputs": [
    {
     "name": "stdout",
     "output_type": "stream",
     "text": [
      "secondo addestramento.\n",
      " 500 epoche ( 399437 esempi, analizzati 1024 alla volta su 391 aggiornamenti dei parametri per epoca )\n",
      "epoca: 201/500  -  lr:0.003000  -  loss: 1.3262683153152466\n",
      "epoca: 202/500  -  lr:0.002820  -  loss: 1.1670067310333252\n",
      "epoca: 203/500  -  lr:0.002651  -  loss: 1.1046245098114014\n",
      "epoca: 204/500  -  lr:0.002492  -  loss: 1.0702108144760132\n",
      "epoca: 205/500  -  lr:0.002342  -  loss: 1.0328928232192993\n",
      "epoca: 206/500  -  lr:0.002202  -  loss: 0.9926525354385376\n",
      "epoca: 207/500  -  lr:0.002070  -  loss: 0.9658905267715454\n",
      "epoca: 208/500  -  lr:0.001945  -  loss: 0.9345508217811584\n",
      "epoca: 209/500  -  lr:0.001829  -  loss: 0.8986601233482361\n",
      "epoca: 210/500  -  lr:0.001719  -  loss: 0.87087482213974\n",
      "epoca: 211/500  -  lr:0.001616  -  loss: 0.8366800546646118\n",
      "epoca: 212/500  -  lr:0.001519  -  loss: 0.8039748668670654\n",
      "epoca: 213/500  -  lr:0.001428  -  loss: 0.7793330550193787\n",
      "epoca: 214/500  -  lr:0.001342  -  loss: 0.7491719722747803\n",
      "epoca: 215/500  -  lr:0.001262  -  loss: 0.7217339873313904\n",
      "epoca: 216/500  -  lr:0.001186  -  loss: 0.6942583322525024\n",
      "epoca: 217/500  -  lr:0.001115  -  loss: 0.6713628172874451\n",
      "epoca: 218/500  -  lr:0.001048  -  loss: 0.6415154933929443\n",
      "epoca: 219/500  -  lr:0.000985  -  loss: 0.62140291929245\n",
      "epoca: 220/500  -  lr:0.000926  -  loss: 0.6010905504226685\n",
      "epoca: 221/500  -  lr:0.000870  -  loss: 0.576889157295227\n",
      "epoca: 222/500  -  lr:0.000818  -  loss: 0.5558193325996399\n",
      "epoca: 223/500  -  lr:0.000769  -  loss: 0.5374053716659546\n",
      "epoca: 224/500  -  lr:0.000723  -  loss: 0.5167738795280457\n",
      "epoca: 225/500  -  lr:0.000680  -  loss: 0.49895554780960083\n",
      "-------------------                                           \n",
      " frase di partenza: PER L UNIVERSO  QUALSIASI COSA É MEGLIO CHE STAR -------------------\n",
      "frase generata:\n",
      "  QUANTO SI APPOGGIÒ UN TRANCIPANO E TRILLIAN  DIS\n",
      "SE ZAPHOD ESPETTA DI PROPRIA CON LA PALLA  LA SUA \n",
      "PARTI MISEADERIO CHE SORRISE CHE COSA CHE SI SAREB\n",
      "BE MAI VIVERE IN CORRIDOIO MANGIATO UN PO  DISSE A\n",
      "RTHRARLO TRA LO STESSO GUARDANDO CON SULLA NAVE GI\n",
      "\n",
      "-------------------\n",
      "epoca: 226/500  -  lr:0.000639  -  loss: 0.4836346507072449\n",
      "epoca: 227/500  -  lr:0.000600  -  loss: 0.4664214551448822\n",
      "epoca: 228/500  -  lr:0.000564  -  loss: 0.4509158432483673\n",
      "epoca: 229/500  -  lr:0.000531  -  loss: 0.4356142282485962\n",
      "epoca: 230/500  -  lr:0.000499  -  loss: 0.4219074547290802\n",
      "epoca: 231/500  -  lr:0.000469  -  loss: 0.4071546792984009\n",
      "epoca: 232/500  -  lr:0.000441  -  loss: 0.39485129714012146\n",
      "epoca: 233/500  -  lr:0.000414  -  loss: 0.3841119408607483\n",
      "epoca: 234/500  -  lr:0.000389  -  loss: 0.37136080861091614\n",
      "epoca: 235/500  -  lr:0.000366  -  loss: 0.36073052883148193\n",
      "epoca: 236/500  -  lr:0.000344  -  loss: 0.3499927222728729\n",
      "epoca: 237/500  -  lr:0.000323  -  loss: 0.3399404287338257\n",
      "epoca: 238/500  -  lr:0.000304  -  loss: 0.3326459228992462\n",
      "epoca: 239/500  -  lr:0.000286  -  loss: 0.3225802183151245\n",
      "epoca: 240/500  -  lr:0.000269  -  loss: 0.3143213987350464\n",
      "epoca: 241/500  -  lr:0.000252  -  loss: 0.30648696422576904\n",
      "epoca: 242/500  -  lr:0.000237  -  loss: 0.2990794777870178\n",
      "epoca: 243/500  -  lr:0.000223  -  loss: 0.2915736436843872\n",
      "epoca: 244/500  -  lr:0.000210  -  loss: 0.28584450483322144\n",
      "epoca: 245/500  -  lr:0.000197  -  loss: 0.2797689139842987\n",
      "epoca: 246/500  -  lr:0.000185  -  loss: 0.2735356092453003\n",
      "epoca: 247/500  -  lr:0.000174  -  loss: 0.2681703269481659\n",
      "epoca: 248/500  -  lr:0.000164  -  loss: 0.2628927230834961\n",
      "epoca: 249/500  -  lr:0.000154  -  loss: 0.25803935527801514\n",
      "epoca: 250/500  -  lr:0.000145  -  loss: 0.2532791793346405\n",
      "epoca: 251/500  -  lr:0.000136  -  loss: 0.2483358085155487\n",
      "epoca: 252/500  -  lr:0.000128  -  loss: 0.2448485642671585\n",
      "epoca: 253/500  -  lr:0.000120  -  loss: 0.24095095694065094\n",
      "epoca: 254/500  -  lr:0.000113  -  loss: 0.23728860914707184\n",
      "epoca: 255/500  -  lr:0.000106  -  loss: 0.23370233178138733\n",
      "epoca: 256/500  -  lr:0.000100  -  loss: 0.23042379319667816\n",
      "epoca: 257/500  -  lr:0.000118  -  loss: 0.23063479363918304\n",
      "epoca: 258/500  -  lr:0.000139  -  loss: 0.23140056431293488\n",
      "epoca: 259/500  -  lr:0.000164  -  loss: 0.23130789399147034\n",
      "epoca: 260/500  -  lr:0.000194  -  loss: 0.23275931179523468\n",
      "epoca: 261/500  -  lr:0.000228  -  loss: 0.23471899330615997\n",
      "epoca: 262/500  -  lr:0.000269  -  loss: 0.23753058910369873\n",
      "epoca: 263/500  -  lr:0.000318  -  loss: 0.24169720709323883\n",
      "epoca: 264/500  -  lr:0.000375  -  loss: 0.25002923607826233\n",
      "epoca: 265/500  -  lr:0.000443  -  loss: 0.2601870596408844\n",
      "epoca: 266/500  -  lr:0.000522  -  loss: 0.27501171827316284\n",
      "epoca: 267/500  -  lr:0.000616  -  loss: 0.29381391406059265\n",
      "epoca: 268/500  -  lr:0.000727  -  loss: 0.3151450753211975\n",
      "epoca: 269/500  -  lr:0.000684  -  loss: 0.2892144024372101\n",
      "epoca: 270/500  -  lr:0.000643  -  loss: 0.25261855125427246\n",
      "epoca: 271/500  -  lr:0.000604  -  loss: 0.24004849791526794\n",
      "epoca: 272/500  -  lr:0.000568  -  loss: 0.2232820689678192\n",
      "epoca: 273/500  -  lr:0.000534  -  loss: 0.21193258464336395\n",
      "epoca: 274/500  -  lr:0.000502  -  loss: 0.20121526718139648\n",
      "epoca: 275/500  -  lr:0.000472  -  loss: 0.19080333411693573\n",
      "epoca: 276/500  -  lr:0.000443  -  loss: 0.1790832132101059\n",
      "epoca: 277/500  -  lr:0.000417  -  loss: 0.17204008996486664\n",
      "epoca: 278/500  -  lr:0.000392  -  loss: 0.16519810259342194\n",
      "epoca: 279/500  -  lr:0.000368  -  loss: 0.15570904314517975\n",
      "epoca: 280/500  -  lr:0.000346  -  loss: 0.148188516497612\n",
      "epoca: 281/500  -  lr:0.000325  -  loss: 0.14027133584022522\n",
      "epoca: 282/500  -  lr:0.000306  -  loss: 0.13550953567028046\n",
      "epoca: 283/500  -  lr:0.000288  -  loss: 0.12844577431678772\n",
      "epoca: 284/500  -  lr:0.000270  -  loss: 0.12193072587251663\n",
      "epoca: 285/500  -  lr:0.000254  -  loss: 0.11631317436695099\n",
      "epoca: 286/500  -  lr:0.000239  -  loss: 0.11112295091152191\n",
      "epoca: 287/500  -  lr:0.000224  -  loss: 0.10637194663286209\n",
      "epoca: 288/500  -  lr:0.000211  -  loss: 0.1013852208852768\n",
      "epoca: 289/500  -  lr:0.000198  -  loss: 0.09798373281955719\n",
      "epoca: 290/500  -  lr:0.000186  -  loss: 0.09375162422657013\n",
      "epoca: 291/500  -  lr:0.000175  -  loss: 0.09007100015878677\n",
      "epoca: 292/500  -  lr:0.000165  -  loss: 0.08592354506254196\n",
      "epoca: 293/500  -  lr:0.000155  -  loss: 0.08268722891807556\n",
      "epoca: 294/500  -  lr:0.000146  -  loss: 0.0793260857462883\n",
      "epoca: 295/500  -  lr:0.000137  -  loss: 0.07701253145933151\n",
      "epoca: 296/500  -  lr:0.000129  -  loss: 0.07438401877880096\n",
      "epoca: 297/500  -  lr:0.000121  -  loss: 0.07138197124004364\n",
      "epoca: 298/500  -  lr:0.000114  -  loss: 0.06927216053009033\n",
      "epoca: 299/500  -  lr:0.000107  -  loss: 0.06719807535409927\n",
      "epoca: 300/500  -  lr:0.000100  -  loss: 0.06490404903888702\n",
      "-------------------                                           \n",
      " frase di partenza:  ALLA MIA PRIMA DI  NON VOLETE AIUTARCI  CHIESE  -------------------\n",
      "frase generata:\n",
      "TRILLIAN  ERA STATO ANDALE CIOCCHI ANCORA STELLARE\n",
      " COME SE PER LA PIÙ EDIFONO MATEMAGLI OSTENSE CON \n",
      "UNA GRANDE PIANUMA ECCO LO STARE FORSE ERA ABBANDO\n",
      "NÒ GUARATE SONO ALLONNZITA O UN SEMIGI AZZITARONO \n",
      "E NERO BUON SEGUISIONE CON UNA BARLO DIAGOLO CHE S\n",
      "\n",
      "-------------------\n",
      "epoca: 301/500  -  lr:0.000094  -  loss: 0.06315337866544724\n",
      "epoca: 302/500  -  lr:0.000111  -  loss: 0.06347193568944931\n",
      "epoca: 303/500  -  lr:0.000131  -  loss: 0.06384789198637009\n",
      "epoca: 304/500  -  lr:0.000155  -  loss: 0.06474386900663376\n",
      "epoca: 305/500  -  lr:0.000183  -  loss: 0.06870632618665695\n",
      "epoca: 306/500  -  lr:0.000216  -  loss: 0.0755242258310318\n",
      "epoca: 307/500  -  lr:0.000255  -  loss: 0.08345450460910797\n",
      "epoca: 308/500  -  lr:0.000301  -  loss: 0.08981210738420486\n",
      "epoca: 309/500  -  lr:0.000355  -  loss: 0.10090438276529312\n",
      "epoca: 310/500  -  lr:0.000419  -  loss: 0.12119418382644653\n",
      "epoca: 311/500  -  lr:0.000494  -  loss: 0.13639770448207855\n",
      "epoca: 312/500  -  lr:0.000583  -  loss: 0.17052070796489716\n",
      "epoca: 313/500  -  lr:0.000688  -  loss: 0.203488290309906\n",
      "epoca: 314/500  -  lr:0.000647  -  loss: 0.14038284122943878\n",
      "epoca: 315/500  -  lr:0.000608  -  loss: 0.11303776502609253\n",
      "epoca: 316/500  -  lr:0.000571  -  loss: 0.0909089669585228\n",
      "epoca: 317/500  -  lr:0.000537  -  loss: 0.07932732999324799\n",
      "epoca: 318/500  -  lr:0.000505  -  loss: 0.07588979601860046\n",
      "epoca: 319/500  -  lr:0.000475  -  loss: 0.06533747911453247\n",
      "epoca: 320/500  -  lr:0.000446  -  loss: 0.06189584359526634\n",
      "epoca: 321/500  -  lr:0.000419  -  loss: 0.06968121230602264\n",
      "epoca: 322/500  -  lr:0.000394  -  loss: 0.05811752378940582\n",
      "epoca: 323/500  -  lr:0.000371  -  loss: 0.04987471550703049\n",
      "epoca: 324/500  -  lr:0.000348  -  loss: 0.04424695670604706\n",
      "epoca: 325/500  -  lr:0.000327  -  loss: 0.04000910744071007\n",
      "epoca: 326/500  -  lr:0.000308  -  loss: 0.04017483815550804\n",
      "epoca: 327/500  -  lr:0.000289  -  loss: 0.03561548888683319\n",
      "epoca: 328/500  -  lr:0.000272  -  loss: 0.03446550667285919\n",
      "epoca: 329/500  -  lr:0.000256  -  loss: 0.03163950890302658\n",
      "epoca: 330/500  -  lr:0.000240  -  loss: 0.027079330757260323\n",
      "epoca: 331/500  -  lr:0.000226  -  loss: 0.02449607476592064\n",
      "epoca: 332/500  -  lr:0.000212  -  loss: 0.02178083546459675\n",
      "epoca: 333/500  -  lr:0.000200  -  loss: 0.020502708852291107\n",
      "epoca: 334/500  -  lr:0.000188  -  loss: 0.019656123593449593\n",
      "epoca: 335/500  -  lr:0.000176  -  loss: 0.019798962399363518\n",
      "epoca: 336/500  -  lr:0.000166  -  loss: 0.019314540550112724\n",
      "epoca: 337/500  -  lr:0.000156  -  loss: 0.016273414716124535\n",
      "epoca: 338/500  -  lr:0.000146  -  loss: 0.014297871850430965\n",
      "epoca: 339/500  -  lr:0.000138  -  loss: 0.01335337944328785\n",
      "epoca: 340/500  -  lr:0.000129  -  loss: 0.01323325838893652\n",
      "epoca: 341/500  -  lr:0.000122  -  loss: 0.012114085257053375\n",
      "epoca: 342/500  -  lr:0.000114  -  loss: 0.011146522127091885\n",
      "epoca: 343/500  -  lr:0.000107  -  loss: 0.010451721027493477\n",
      "epoca: 344/500  -  lr:0.000101  -  loss: 0.009957756847143173\n",
      "epoca: 345/500  -  lr:0.000095  -  loss: 0.009424474090337753\n",
      "epoca: 346/500  -  lr:0.000112  -  loss: 0.00998466182500124\n",
      "epoca: 347/500  -  lr:0.000132  -  loss: 0.027037784457206726\n",
      "epoca: 348/500  -  lr:0.000156  -  loss: 0.012884718365967274\n",
      "epoca: 349/500  -  lr:0.000184  -  loss: 0.010074885562062263\n",
      "epoca: 350/500  -  lr:0.000217  -  loss: 0.010456832125782967\n",
      "epoca: 351/500  -  lr:0.000256  -  loss: 0.09369032829999924\n",
      "epoca: 352/500  -  lr:0.000303  -  loss: 0.035337526351213455\n",
      "epoca: 353/500  -  lr:0.000357  -  loss: 0.023159846663475037\n",
      "epoca: 354/500  -  lr:0.000421  -  loss: 0.07966399937868118\n",
      "epoca: 355/500  -  lr:0.000497  -  loss: 0.1353219896554947\n",
      "epoca: 356/500  -  lr:0.000587  -  loss: 0.13049481809139252\n",
      "epoca: 357/500  -  lr:0.000551  -  loss: 0.07388129085302353\n",
      "epoca: 358/500  -  lr:0.000518  -  loss: 0.042471203953027725\n",
      "epoca: 359/500  -  lr:0.000487  -  loss: 0.024080045521259308\n",
      "epoca: 360/500  -  lr:0.000458  -  loss: 0.01794876717031002\n",
      "epoca: 361/500  -  lr:0.000430  -  loss: 0.012540210038423538\n",
      "epoca: 362/500  -  lr:0.000405  -  loss: 0.010413194075226784\n",
      "epoca: 363/500  -  lr:0.000380  -  loss: 0.009606480598449707\n",
      "epoca: 364/500  -  lr:0.000358  -  loss: 0.01117659080773592\n",
      "epoca: 365/500  -  lr:0.000336  -  loss: 0.08265423774719238\n",
      "epoca: 366/500  -  lr:0.000316  -  loss: 0.03944263979792595\n",
      "epoca: 367/500  -  lr:0.000297  -  loss: 0.014843195676803589\n",
      "epoca: 368/500  -  lr:0.000279  -  loss: 0.009050221182405949\n",
      "epoca: 369/500  -  lr:0.000262  -  loss: 0.007459989748895168\n",
      "epoca: 370/500  -  lr:0.000247  -  loss: 0.0067584621720016\n",
      "epoca: 371/500  -  lr:0.000232  -  loss: 0.006085609085857868\n",
      "epoca: 372/500  -  lr:0.000218  -  loss: 0.005615572445094585\n",
      "epoca: 373/500  -  lr:0.000205  -  loss: 0.005285734310746193\n",
      "epoca: 374/500  -  lr:0.000193  -  loss: 0.005062221549451351\n",
      "epoca: 375/500  -  lr:0.000181  -  loss: 0.004752929322421551\n",
      "epoca: 376/500  -  lr:0.000170  -  loss: 0.0045549143105745316\n",
      "epoca: 377/500  -  lr:0.000160  -  loss: 0.004863020032644272\n",
      "epoca: 378/500  -  lr:0.000150  -  loss: 0.026302749291062355\n",
      "epoca: 379/500  -  lr:0.000141  -  loss: 0.007532396353781223\n",
      "epoca: 380/500  -  lr:0.000133  -  loss: 0.0047275894321501255\n",
      "epoca: 381/500  -  lr:0.000125  -  loss: 0.003964115399867296\n",
      "epoca: 382/500  -  lr:0.000117  -  loss: 0.0037008703220635653\n",
      "epoca: 383/500  -  lr:0.000110  -  loss: 0.003495741868391633\n",
      "epoca: 384/500  -  lr:0.000104  -  loss: 0.00334824132733047\n",
      "epoca: 385/500  -  lr:0.000098  -  loss: 0.0032292113173753023\n",
      "epoca: 386/500  -  lr:0.000115  -  loss: 0.003220244776457548\n",
      "epoca: 387/500  -  lr:0.000136  -  loss: 0.003468600567430258\n",
      "epoca: 388/500  -  lr:0.000160  -  loss: 0.03855014219880104\n",
      "epoca: 389/500  -  lr:0.000189  -  loss: 0.008539019152522087\n",
      "epoca: 390/500  -  lr:0.000223  -  loss: 0.004687446169555187\n",
      "epoca: 391/500  -  lr:0.000263  -  loss: 0.0037280069664120674\n",
      "epoca: 392/500  -  lr:0.000311  -  loss: 0.0061673629097640514\n",
      "epoca: 393/500  -  lr:0.000367  -  loss: 0.21316571533679962\n",
      "epoca: 394/500  -  lr:0.000432  -  loss: 0.04850577190518379\n",
      "epoca: 395/500  -  lr:0.000510  -  loss: 0.04406159743666649\n",
      "epoca: 396/500  -  lr:0.000480  -  loss: 0.04001617059111595\n",
      "epoca: 397/500  -  lr:0.000451  -  loss: 0.02952018566429615\n",
      "epoca: 398/500  -  lr:0.000424  -  loss: 0.018065471202135086\n",
      "epoca: 399/500  -  lr:0.000398  -  loss: 0.009095259942114353\n",
      "epoca: 400/500  -  lr:0.000375  -  loss: 0.0066808294504880905\n",
      "-------------------                                           \n",
      " frase di partenza: NOTTE ERA UNA NOTTE REALE KRIKKIT KRIKKIT FORSE  -------------------\n",
      "frase generata:\n",
      "VERRÀ ZAPHOD BEEE DI AVER PRENDIA UNA PUNTE DI GLI\n",
      " CONCÒ LA ANCHE SE LA PASSIWOOP E DERO STRADA SALZ\n",
      "Ò LA PICCOLA FORD LO TRAPA  NO  BE  DISSE TU COI V\n",
      "EDIAMO NO  DISSE ALLA  NO PER QUASI COME UN PICCOL\n",
      "O ARCHI TÉ ANCOR AVEVA NEMMENONATO EVIGGERE LE ALT\n",
      "\n",
      "-------------------\n",
      "epoca: 401/500  -  lr:0.000352  -  loss: 0.006642951630055904\n",
      "epoca: 402/500  -  lr:0.000331  -  loss: 0.005703384522348642\n",
      "epoca: 403/500  -  lr:0.000311  -  loss: 0.008460167795419693\n",
      "epoca: 404/500  -  lr:0.000292  -  loss: 0.05275944992899895\n",
      "epoca: 405/500  -  lr:0.000275  -  loss: 0.021428370848298073\n",
      "epoca: 406/500  -  lr:0.000258  -  loss: 0.0075845615938305855\n",
      "epoca: 407/500  -  lr:0.000243  -  loss: 0.004237445071339607\n",
      "epoca: 408/500  -  lr:0.000228  -  loss: 0.0033783933613449335\n",
      "epoca: 409/500  -  lr:0.000215  -  loss: 0.0030737195629626513\n",
      "epoca: 410/500  -  lr:0.000202  -  loss: 0.002869335003197193\n",
      "epoca: 411/500  -  lr:0.000190  -  loss: 0.002692730398848653\n",
      "epoca: 412/500  -  lr:0.000178  -  loss: 0.0025732703506946564\n",
      "epoca: 413/500  -  lr:0.000168  -  loss: 0.002464970340952277\n",
      "epoca: 414/500  -  lr:0.000158  -  loss: 0.002348904265090823\n",
      "epoca: 415/500  -  lr:0.000148  -  loss: 0.002238789340481162\n",
      "epoca: 416/500  -  lr:0.000139  -  loss: 0.0021398637909442186\n",
      "epoca: 417/500  -  lr:0.000131  -  loss: 0.0020642343442887068\n",
      "epoca: 418/500  -  lr:0.000123  -  loss: 0.0019763417076319456\n",
      "epoca: 419/500  -  lr:0.000116  -  loss: 0.0019113020971417427\n",
      "epoca: 420/500  -  lr:0.000109  -  loss: 0.001775678712874651\n",
      "epoca: 421/500  -  lr:0.000102  -  loss: 0.009484772570431232\n",
      "epoca: 422/500  -  lr:0.000096  -  loss: 0.005792899988591671\n",
      "epoca: 423/500  -  lr:0.000113  -  loss: 0.00233177631162107\n",
      "epoca: 424/500  -  lr:0.000134  -  loss: 0.0018671068828552961\n",
      "epoca: 425/500  -  lr:0.000158  -  loss: 0.0016812917310744524\n",
      "epoca: 426/500  -  lr:0.000186  -  loss: 0.0015840580454096198\n",
      "epoca: 427/500  -  lr:0.000220  -  loss: 0.0016090372810140252\n",
      "epoca: 428/500  -  lr:0.000259  -  loss: 0.1003224328160286\n",
      "epoca: 429/500  -  lr:0.000306  -  loss: 0.032672394067049026\n",
      "epoca: 430/500  -  lr:0.000361  -  loss: 0.013757672160863876\n",
      "epoca: 431/500  -  lr:0.000426  -  loss: 0.029087752103805542\n",
      "epoca: 432/500  -  lr:0.000502  -  loss: 0.16119243204593658\n",
      "epoca: 433/500  -  lr:0.000472  -  loss: 0.06551270186901093\n",
      "epoca: 434/500  -  lr:0.000444  -  loss: 0.019982988014817238\n",
      "epoca: 435/500  -  lr:0.000417  -  loss: 0.007062617223709822\n",
      "epoca: 436/500  -  lr:0.000392  -  loss: 0.006747804582118988\n",
      "epoca: 437/500  -  lr:0.000369  -  loss: 0.0035785126965492964\n",
      "epoca: 438/500  -  lr:0.000347  -  loss: 0.002763626631349325\n",
      "epoca: 439/500  -  lr:0.000326  -  loss: 0.002444833517074585\n",
      "epoca: 440/500  -  lr:0.000306  -  loss: 0.002232735510915518\n",
      "epoca: 441/500  -  lr:0.000288  -  loss: 0.002098703058436513\n",
      "epoca: 442/500  -  lr:0.000271  -  loss: 0.0019875075668096542\n",
      "epoca: 443/500  -  lr:0.000254  -  loss: 0.0018610575934872031\n",
      "epoca: 444/500  -  lr:0.000239  -  loss: 0.001718137296847999\n",
      "epoca: 445/500  -  lr:0.000225  -  loss: 0.0017103259451687336\n",
      "epoca: 446/500  -  lr:0.000211  -  loss: 0.001566774444654584\n",
      "epoca: 447/500  -  lr:0.000199  -  loss: 0.0015419713454321027\n",
      "epoca: 448/500  -  lr:0.000187  -  loss: 0.0015272402670234442\n",
      "epoca: 449/500  -  lr:0.000176  -  loss: 0.026108965277671814\n",
      "epoca: 450/500  -  lr:0.000165  -  loss: 0.019908417016267776\n",
      "-------------------                                           \n",
      " frase di partenza: RIZZAVA E DOPO UN PO  PER CERCARE UN RIMEDIO APR -------------------\n",
      "frase generata:\n",
      "EINIENE L ORA  PERCHÉ NONÒ E MI DIO POSTO A UN ESA\n",
      "LÒ ANDARE BENNIARE CHE ABBICIE APERTO SU CE NETUS \n",
      "CHIUNO MA E UN PEZTO  CREPARE PIÙ FUNZIONA ACIETE \n",
      "LE IMBELMIVA FINALULISSIMA PENNCERARMENTE DIFFICO \n",
      "CONTUSANTE A GIÀ NO PER MINIMO RIMASE A VOLTA CHE \n",
      "\n",
      "-------------------\n",
      "epoca: 451/500  -  lr:0.000155  -  loss: 0.003792284056544304\n",
      "epoca: 452/500  -  lr:0.000146  -  loss: 0.0021296150516718626\n",
      "epoca: 453/500  -  lr:0.000137  -  loss: 0.001807737397029996\n",
      "epoca: 454/500  -  lr:0.000129  -  loss: 0.0016477234894409776\n",
      "epoca: 455/500  -  lr:0.000121  -  loss: 0.0015385517617687583\n",
      "epoca: 456/500  -  lr:0.000114  -  loss: 0.001440657302737236\n",
      "epoca: 457/500  -  lr:0.000107  -  loss: 0.0013684580335393548\n",
      "epoca: 458/500  -  lr:0.000101  -  loss: 0.001304623088799417\n",
      "epoca: 459/500  -  lr:0.000095  -  loss: 0.0012656659819185734\n",
      "epoca: 460/500  -  lr:0.000112  -  loss: 0.00129004567861557\n",
      "epoca: 461/500  -  lr:0.000132  -  loss: 0.001229599816724658\n",
      "epoca: 462/500  -  lr:0.000155  -  loss: 0.0012811594642698765\n",
      "epoca: 463/500  -  lr:0.000183  -  loss: 0.04847031831741333\n",
      "epoca: 464/500  -  lr:0.000216  -  loss: 0.010848951525986195\n",
      "epoca: 465/500  -  lr:0.000255  -  loss: 0.004648128058761358\n",
      "epoca: 466/500  -  lr:0.000301  -  loss: 0.0023777347523719072\n",
      "epoca: 467/500  -  lr:0.000355  -  loss: 0.002800298621878028\n",
      "epoca: 468/500  -  lr:0.000419  -  loss: 0.18362656235694885\n",
      "epoca: 469/500  -  lr:0.000394  -  loss: 0.09332949668169022\n",
      "epoca: 470/500  -  lr:0.000370  -  loss: 0.017370035871863365\n",
      "epoca: 471/500  -  lr:0.000348  -  loss: 0.008604067377746105\n",
      "epoca: 472/500  -  lr:0.000327  -  loss: 0.003510258160531521\n",
      "epoca: 473/500  -  lr:0.000308  -  loss: 0.0025249808095395565\n",
      "epoca: 474/500  -  lr:0.000289  -  loss: 0.0022092987783253193\n",
      "epoca: 475/500  -  lr:0.000272  -  loss: 0.002020474523305893\n",
      "epoca: 476/500  -  lr:0.000256  -  loss: 0.0018537830328568816\n",
      "epoca: 477/500  -  lr:0.000240  -  loss: 0.0017399122007191181\n",
      "epoca: 478/500  -  lr:0.000226  -  loss: 0.0016303000738844275\n",
      "epoca: 479/500  -  lr:0.000212  -  loss: 0.0015492549864575267\n",
      "epoca: 480/500  -  lr:0.000200  -  loss: 0.001468295929953456\n",
      "epoca: 481/500  -  lr:0.000188  -  loss: 0.0013549748109653592\n",
      "epoca: 482/500  -  lr:0.000176  -  loss: 0.001282733166590333\n",
      "epoca: 483/500  -  lr:0.000166  -  loss: 0.0012753504561260343\n",
      "epoca: 484/500  -  lr:0.000156  -  loss: 0.0012110400712117553\n",
      "epoca: 485/500  -  lr:0.000146  -  loss: 0.0011594060342758894\n",
      "epoca: 486/500  -  lr:0.000138  -  loss: 0.0011262354673817754\n",
      "epoca: 487/500  -  lr:0.000129  -  loss: 0.01758282445371151\n",
      "epoca: 488/500  -  lr:0.000122  -  loss: 0.006129208952188492\n",
      "epoca: 489/500  -  lr:0.000114  -  loss: 0.001945387339219451\n",
      "epoca: 490/500  -  lr:0.000107  -  loss: 0.0013671027263626456\n",
      "epoca: 491/500  -  lr:0.000101  -  loss: 0.0012261677766218781\n",
      "epoca: 492/500  -  lr:0.000095  -  loss: 0.00113382947165519\n",
      "epoca: 493/500  -  lr:0.000112  -  loss: 0.0010814369888976216\n",
      "epoca: 494/500  -  lr:0.000132  -  loss: 0.0010694541269913316\n",
      "epoca: 495/500  -  lr:0.000156  -  loss: 0.0010114101460203528\n",
      "epoca: 496/500  -  lr:0.000184  -  loss: 0.0010173424379900098\n",
      "epoca: 497/500  -  lr:0.000217  -  loss: 0.0011063949204981327\n",
      "epoca: 498/500  -  lr:0.000256  -  loss: 0.10452239960432053\n",
      "epoca: 499/500  -  lr:0.000303  -  loss: 0.027950190007686615\n",
      "epoca: 500/500  -  lr:0.000357  -  loss: 0.010960211977362633\n",
      "-------------------                                           \n",
      " frase di partenza: I BERE QUALCOSA PER PIACERE  DISSE ZAPHOD SEI SE -------------------\n",
      "frase generata:\n",
      "NTIRE IL PANINA IN IMPAZIANTE SI SAREDIAMENTE IMMO\n",
      "LTASSE ERA ACCELLO  URMO ERA FORUN COMPAGNIO DI LE\n",
      "GANE E CERCAVANO DAL VIAGGIO DI RISPIACCI  RIPRESE\n",
      " ARTHUR ALIENO L ENTRA ARTHUR O CON SUBBRETA COS A\n",
      "LTRO FAI CHIESE TRILLIAN CHE CONTINE ENTRÒ E LEI M\n",
      "\n",
      "-------------------\n",
      "\n",
      "\n",
      "fine addestramento.\n"
     ]
    }
   ],
   "source": [
    "epochs = 500\n",
    "print('secondo addestramento.\\n', epochs, 'epoche (', len(x), 'esempi, analizzati', batches, 'alla volta su', int(len(x) / batches) + 1,\n",
    "      'aggiornamenti dei parametri per epoca )')\n",
    "history = model.fit(x, y,\n",
    "          batch_size=batches, \n",
    "          epochs=epochs,\n",
    "          callbacks=tm,\n",
    "          initial_epoch=200,\n",
    "          verbose=0)\n",
    "print('\\n\\nfine addestramento.')"
   ]
  },
  {
   "cell_type": "markdown",
   "metadata": {},
   "source": [
    "#### Illustrazione dell errore sul secondo addestramento e come si puo notare dal grafico abbiamo ragiunto il massimo che possiamo"
   ]
  },
  {
   "cell_type": "code",
   "execution_count": 15,
   "metadata": {
    "pycharm": {
     "name": "#%%\n"
    }
   },
   "outputs": [
    {
     "data": {
      "text/plain": [
       "<Figure size 1440x864 with 0 Axes>"
      ]
     },
     "metadata": {},
     "output_type": "display_data"
    },
    {
     "data": {
      "image/png": "[encoded data removed]",
      "text/plain": [
       "<Figure size 432x288 with 1 Axes>"
      ]
     },
     "metadata": {
      "needs_background": "light"
     },
     "output_type": "display_data"
    }
   ],
   "source": [
    "# visualizzazione secondo addestramento\n",
    "plt.figure(figsize=(20,12))\n",
    "f, ax = plt.subplots()\n",
    "ax.set_title('Errore')\n",
    "ax.plot(history.history['loss'])\n",
    "plt.show()"
   ]
  },
  {
   "cell_type": "markdown",
   "metadata": {},
   "source": [
    "#### Generazione di 400 lettere in seguito ad una porzione di testo random dato come input "
   ]
  },
  {
   "cell_type": "code",
   "execution_count": null,
   "metadata": {
    "pycharm": {
     "name": "#%%\n"
    }
   },
   "outputs": [],
   "source": [
    "start_index = random.randint(0, len(text) - max_len - 1)\n",
    "sentence = text[start_index: start_index + max_len]\n",
    "sentence_appo = sentence[:]#crea un chunk di 48 caratteri a partire da un indice a caso\n",
    "\n",
    "print('frase di partenza:\\n', sentence, '\\n\\n\\nfrase generata:\\n')\n",
    "\n",
    "for i in range(400):\n",
    "    x_pred = np.zeros((1, max_len, len(chars)))\n",
    "    for t, char in enumerate(sentence):\n",
    "        x_pred[0, t, char_indices[char]] = 1.\n",
    "\n",
    "    preds = model.predict(x_pred, verbose=0)[0]\n",
    "    next_index = np.argmax(preds)\n",
    "    next_char = indices_char[next_index]\n",
    "\n",
    "    sentence = sentence[1:] + next_char\n",
    "\n",
    "    sys.stdout.write(next_char)\n",
    "    sys.stdout.flush()\n",
    "\n",
    "print('\\n-------------------')"
   ]
  },
  {
   "cell_type": "markdown",
   "metadata": {
    "pycharm": {
     "name": "#%%\n"
    }
   },
   "source": [
    "## Per motivi computazionali non e' stato possibile avere dei risultati ottimali in quanto ho deciso di non stampare le previsioni del modello, il notebook e stato creato a solo scopo di mostrare le competenze acquisite per quanto riguarda il NLP "
   ]
  },
  {
   "cell_type": "code",
   "execution_count": null,
   "metadata": {},
   "outputs": [],
   "source": []
  }
 ],
 "metadata": {
  "kernelspec": {
   "display_name": "Python 3 (ipykernel)",
   "language": "python",
   "name": "python3"
  },
  "language_info": {
   "codemirror_mode": {
    "name": "ipython",
    "version": 3
   },
   "file_extension": ".py",
   "mimetype": "text/x-python",
   "name": "python",
   "nbconvert_exporter": "python",
   "pygments_lexer": "ipython3",
   "version": "3.8.0"
  }
 },
 "nbformat": 4,
 "nbformat_minor": 4
}
